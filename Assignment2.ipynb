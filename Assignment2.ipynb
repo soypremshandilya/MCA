{
 "cells": [
  {
   "cell_type": "code",
   "execution_count": 1,
   "metadata": {},
   "outputs": [
    {
     "name": "stdout",
     "output_type": "stream",
     "text": [
      "Hello, Prem!\n",
      "Good Morning, Prem Shandilya!\n"
     ]
    }
   ],
   "source": [
    "def greet(name, greeting=\"Hello\"):\n",
    "    return f\"{greeting}, {name}!\"\n",
    "\n",
    "print(greet(\"Prem\"))           \n",
    "print(greet(\"Prem Shandilya\", \"Good Morning\"))  "
   ]
  },
  {
   "cell_type": "code",
   "execution_count": 2,
   "metadata": {},
   "outputs": [
    {
     "name": "stdout",
     "output_type": "stream",
     "text": [
      "name : Prem , city : Bihar, age : 21\n"
     ]
    }
   ],
   "source": [
    "def create_profile(name=\"Prem\",city=\"Bihar\",age=\"21\"):\n",
    "    return f\"name : {name} , city : {city}, age : {age}\"\n",
    "print(create_profile(\"Prem\",\"Bihar\"))"
   ]
  },
  {
   "cell_type": "code",
   "execution_count": 4,
   "metadata": {},
   "outputs": [
    {
     "name": "stdout",
     "output_type": "stream",
     "text": [
      "(12, {})\n",
      "(3, {'x': 4, 'y': 5})\n"
     ]
    }
   ],
   "source": [
    "def sum_numbers(*args, **kwargs):\n",
    "    total_sum = sum(arg for arg in args if isinstance(arg, (int, float)))\n",
    "    \n",
    "    \n",
    "    return total_sum, kwargs\n",
    "\n",
    "\n",
    "print(sum_numbers(3, 4, 5))  \n",
    "\n",
    "print(sum_numbers(1, 2, x=4, y=5)) "
   ]
  },
  {
   "cell_type": "code",
   "execution_count": 5,
   "metadata": {},
   "outputs": [
    {
     "name": "stdout",
     "output_type": "stream",
     "text": [
      "[1, 4, 9, 16]\n"
     ]
    }
   ],
   "source": [
    "def square_list(lst):\n",
    "    return list(map(lambda x: x**2, lst))\n",
    "\n",
    "print(square_list([1, 2, 3, 4]))"
   ]
  },
  {
   "cell_type": "code",
   "execution_count": 6,
   "metadata": {},
   "outputs": [
    {
     "data": {
      "text/plain": [
       "[2, 4, 6]"
      ]
     },
     "execution_count": 6,
     "metadata": {},
     "output_type": "execute_result"
    }
   ],
   "source": [
    "def filter_odd_numbers(lst):\n",
    "    return list(filter(lambda x:x%2==0,lst))\n",
    "\n",
    "filter_odd_numbers([1, 2, 3, 4, 5, 6, 7]) "
   ]
  }
 ],
 "metadata": {
  "kernelspec": {
   "display_name": "Python 3",
   "language": "python",
   "name": "python3"
  },
  "language_info": {
   "codemirror_mode": {
    "name": "ipython",
    "version": 3
   },
   "file_extension": ".py",
   "mimetype": "text/x-python",
   "name": "python",
   "nbconvert_exporter": "python",
   "pygments_lexer": "ipython3",
   "version": "3.12.4"
  }
 },
 "nbformat": 4,
 "nbformat_minor": 2
}
