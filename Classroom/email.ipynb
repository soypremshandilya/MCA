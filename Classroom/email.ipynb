{
 "cells": [
  {
   "cell_type": "code",
   "execution_count": null,
   "metadata": {},
   "outputs": [],
   "source": [
    "# write a program that takes a \n",
    "# list of sap ids and returns a list of email addresses\n",
    "list = [123, \"234\"]\n",
    "res = [\"213@upes.ac.in\", \"234@stu.upes.ac.in\"]\n",
    "\n",
    "# without using map, filter lambda or list comprehension\n",
    "# using map.filter, lambda without using list compreshension\n",
    "# using list comprehension"
   ]
  },
  {
   "cell_type": "code",
   "execution_count": 6,
   "metadata": {},
   "outputs": [
    {
     "name": "stdout",
     "output_type": "stream",
     "text": [
      "['590017213@stu.upes.ac.in', '590017312@stu.upes.ac.in', '590017212@stu.upes.ac.in']\n"
     ]
    }
   ],
   "source": [
    "def generate_email_addresses(sap_ids):\n",
    "    email_list = [] \n",
    "\n",
    "    domain = '@stu.upes.ac.in'\n",
    "\n",
    "    for sap_id in sap_ids:\n",
    "\n",
    "        email_address = sap_id + domain\n",
    "     \n",
    "        email_list.append(email_address)\n",
    "    \n",
    "    return email_list\n",
    "\n",
    "sap_ids = ['590017213', '590017312', '590017212']\n",
    "res = generate_email_addresses(sap_ids)\n",
    "print(res)\n"
   ]
  },
  {
   "cell_type": "code",
   "execution_count": null,
   "metadata": {},
   "outputs": [],
   "source": [
    "#2 \n",
    "def id_to_email(id):\n",
    "    email = f\"{id}@stu.upes.ac.in\"\n",
    "    return email\n",
    "lambda id : \n",
    "\n",
    "sap_ids = [123, \"234\", \"234234\", 123123]\n",
    "res = list (map(lambda id: f\" {id}\"))"
   ]
  },
  {
   "cell_type": "code",
   "execution_count": 12,
   "metadata": {},
   "outputs": [
    {
     "name": "stdout",
     "output_type": "stream",
     "text": [
      "['590017213', '590017214', '590018328']\n",
      "['590017213@stu.upes.ac.in', '590017214@stu.upes.ac.in', '590018328@stu.upes.ac.in']\n"
     ]
    }
   ],
   "source": [
    "#3 \n",
    "res = [f\"{id}@stu.upes.ac.in\" for id in sap_ids]\n",
    "\n",
    "print(sap_ids)\n",
    "print(res)"
   ]
  }
 ],
 "metadata": {
  "kernelspec": {
   "display_name": "Python 3",
   "language": "python",
   "name": "python3"
  },
  "language_info": {
   "codemirror_mode": {
    "name": "ipython",
    "version": 3
   },
   "file_extension": ".py",
   "mimetype": "text/x-python",
   "name": "python",
   "nbconvert_exporter": "python",
   "pygments_lexer": "ipython3",
   "version": "3.12.4"
  }
 },
 "nbformat": 4,
 "nbformat_minor": 2
}
