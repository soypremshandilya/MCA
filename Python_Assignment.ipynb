{
 "cells": [
  {
   "cell_type": "code",
   "execution_count": null,
   "id": "72e71bb5-6e1c-4c62-87f7-2632ed0838a2",
   "metadata": {},
   "outputs": [],
   "source": [
    "python_version = sys.version\n",
    "print(\"NAME:Prem Shandilya\\nBATCH:B5\\nSAP ID:590017213\")\n",
    "print(f\"I am using Python version {python_version}.\")\n",
    "\n",
    "print(\"Hello Python World!\")"
   ]
  },
  {
   "cell_type": "code",
   "execution_count": null,
   "id": "468778ad-ad79-4b37-a6f8-fcbfeb933841",
   "metadata": {},
   "outputs": [],
   "source": [
    "str1=input(\"Enter the first name \")\n",
    "str2=input(\"Enter the second name \")\n",
    "print((str2[::-1] + \" \"+ str1[::-1]))"
   ]
  },
  {
   "cell_type": "code",
   "execution_count": null,
   "id": "f26ee9da-a892-48f2-bde4-f108272700d3",
   "metadata": {},
   "outputs": [],
   "source": [
    "user_input = input(\"Enter A number: \")\n",
    "\n",
    "print(\"Integer:\", int(user_input))\n",
    "print(\"Float:\", float(user_input))\n",
    "print(\"Complex:\", complex(user_input))"
   ]
  },
  {
   "cell_type": "code",
   "execution_count": null,
   "id": "03c3ac50-672b-4568-86c8-41a7e15c1588",
   "metadata": {},
   "outputs": [],
   "source": [
    "length = float(input(\"Enter the lenght of Rectangle : \"))\n",
    "width = float(input(\"Enter the width of Rectangle : \"))\n",
    "area = length * width\n",
    "\n",
    "print(f\"The area is {area:.2f}\")"
   ]
  },
  {
   "cell_type": "code",
   "execution_count": null,
   "id": "47a95341-e621-4896-801f-1cf8a9e2bbac",
   "metadata": {},
   "outputs": [],
   "source": [
    "num1=float(input(\"Enter the first number :\"))\n",
    "\n",
    "num2=float(input(\"Enter the second number :\"))\n",
    "\n",
    "num3=float(input(\"Enter the third number :\"))\n",
    "\n",
    "avg=(num1+num2+num3)/3\n",
    "print(\"The Average of given number is %.2f\" %avg)"
   ]
  },
  {
   "cell_type": "code",
   "execution_count": null,
   "id": "c2116179-1504-4ab1-b71f-9ff55b9a7993",
   "metadata": {},
   "outputs": [],
   "source": [
    "while True:\n",
    "    user_input = input(\"Enter A Number (or type 'exit' to quit): \")\n",
    "\n",
    "    if user_input.lower() == 'exit':\n",
    "        break\n",
    "\n",
    "    try:\n",
    "        num = float(user_input)\n",
    "        if num > 0:\n",
    "            print(f\"{num} is a Positive Number.\")\n",
    "        elif num < 0:\n",
    "            print(f\"{num} is a Negative Number.\")\n",
    "        else:\n",
    "            print(f\"{num} is zero.\")\n",
    "    except ValueError:\n",
    "        print(\"Invalid input. Please enter a number or type 'exit' to quit.\")\n",
    "        continue"
   ]
  },
  {
   "cell_type": "code",
   "execution_count": null,
   "id": "c215b7ce-c14a-41d4-bd67-de8e1334c38c",
   "metadata": {},
   "outputs": [],
   "source": [
    "val1 = int(input(\"Enter the First Value :\"))\n",
    "                 \n",
    "val2 = int(input(\"Enter the  Second Value :\"))\n",
    "        \n",
    "if(val1%2==0 and val2%2==0):\n",
    "    print(\"Both are even\")\n",
    "\n",
    "elif(val1%2!=0 and val2%2!=0):\n",
    "    print(\"Both are odd\")\n",
    "elif(val1%2!=0 or val2%2!=0):\n",
    "    print(\"One number is even and the other is odd.\")"
   ]
  },
  {
   "cell_type": "code",
   "execution_count": null,
   "id": "a133d4a3-f201-4e19-bc47-efa5abb369ce",
   "metadata": {},
   "outputs": [],
   "source": [
    "num = int(input(\"Enter An Integer: \"))\n",
    "\n",
    "formats = [('Binary', bin), ('Hexadecimal', hex), ('Octal', oct)]\n",
    "\n",
    "\n",
    "for name, func in formats:\n",
    "    print(f\"{name}: {func(num)[2:].upper()}\")"
   ]
  }
 ],
 "metadata": {
  "kernelspec": {
   "display_name": "Python 3 (ipykernel)",
   "language": "python",
   "name": "python3"
  },
  "language_info": {
   "codemirror_mode": {
    "name": "ipython",
    "version": 3
   },
   "file_extension": ".py",
   "mimetype": "text/x-python",
   "name": "python",
   "nbconvert_exporter": "python",
   "pygments_lexer": "ipython3",
   "version": "3.12.4"
  }
 },
 "nbformat": 4,
 "nbformat_minor": 5
}
