{
 "cells": [
  {
   "cell_type": "code",
   "execution_count": 1,
   "metadata": {},
   "outputs": [
    {
     "name": "stdout",
     "output_type": "stream",
     "text": [
      "Hello World\n"
     ]
    }
   ],
   "source": [
    "print(\"Hello World\")"
   ]
  },
  {
   "cell_type": "code",
   "execution_count": 2,
   "metadata": {},
   "outputs": [
    {
     "name": "stdout",
     "output_type": "stream",
     "text": [
      "merp aylidnahs\n"
     ]
    }
   ],
   "source": [
    "# Taking user input\n",
    "\n",
    "a = input(\"Enter Your First Name\\t:\")\n",
    "b = input(\"Enter Your Last Name\\t:\")\n",
    "\n",
    "\n",
    "# using reverse string operation to revese the string and print the reversed values\n",
    "\n",
    "print(a[::-1] , b[::-1])"
   ]
  },
  {
   "cell_type": "code",
   "execution_count": 3,
   "metadata": {},
   "outputs": [
    {
     "name": "stdout",
     "output_type": "stream",
     "text": [
      "Prem\n",
      "False\n"
     ]
    }
   ],
   "source": [
    "# capitalize()\tIt converts first letter to UpperCase\n",
    "\n",
    "print(a.capitalize())\n",
    "\n",
    "# endswith()\tReturns true if the string ends with the specified value\n",
    "\n",
    "print(b.endswith(\"a\"))"
   ]
  }
 ],
 "metadata": {
  "kernelspec": {
   "display_name": "Python 3",
   "language": "python",
   "name": "python3"
  },
  "language_info": {
   "codemirror_mode": {
    "name": "ipython",
    "version": 3
   },
   "file_extension": ".py",
   "mimetype": "text/x-python",
   "name": "python",
   "nbconvert_exporter": "python",
   "pygments_lexer": "ipython3",
   "version": "3.12.4"
  }
 },
 "nbformat": 4,
 "nbformat_minor": 2
}
