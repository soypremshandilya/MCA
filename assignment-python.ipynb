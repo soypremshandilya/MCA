{
 "cells": [
  {
   "cell_type": "code",
   "execution_count": 4,
   "metadata": {},
   "outputs": [
    {
     "name": "stdout",
     "output_type": "stream",
     "text": [
      "Hello World\n"
     ]
    }
   ],
   "source": [
    "print(\"Hello World\")"
   ]
  },
  {
   "cell_type": "code",
   "execution_count": 7,
   "metadata": {},
   "outputs": [
    {
     "name": "stdout",
     "output_type": "stream",
     "text": [
      "merp aylidnahs\n"
     ]
    }
   ],
   "source": [
    "# Taking user input\n",
    "\n",
    "a = input(\"Enter Your First Name\\t:\")\n",
    "b = input(\"Enter Your Last Name\\t:\")\n",
    "\n",
    "\n",
    "# using reverse string operation to revese the string and print the reversed values\n",
    "\n",
    "print(a[::-1] , b[::-1])"
   ]
  },
  {
   "cell_type": "code",
   "execution_count": 10,
   "metadata": {},
   "outputs": [
    {
     "name": "stdout",
     "output_type": "stream",
     "text": [
      "Prem\n",
      "True\n"
     ]
    }
   ],
   "source": [
    "# capitalize()\tIt converts first letter to UpperCase\n",
    "\n",
    "print(a.capitalize())\n",
    "\n",
    "# endswith()\tReturns true if the string ends with the specified value\n",
    "\n",
    "print(b.endswith(\"a\"))"
   ]
  },
  {
   "cell_type": "code",
   "execution_count": 11,
   "metadata": {},
   "outputs": [
    {
     "name": "stdout",
     "output_type": "stream",
     "text": [
      "208.0\n"
     ]
    }
   ],
   "source": [
    "# taking user input as l for length and w for width\n",
    "\n",
    "l = float(input(\"Enter the length of rectangle\"))\n",
    "w = float(input(\"Enter the width of rectangle\"))\n",
    "\n",
    "area = l*w\n",
    "\n",
    "print(f\"{area}\")"
   ]
  },
  {
   "cell_type": "code",
   "execution_count": 12,
   "metadata": {},
   "outputs": [
    {
     "name": "stdout",
     "output_type": "stream",
     "text": [
      "208.00\n"
     ]
    }
   ],
   "source": [
    "print(\"{:.2f}\".format(area))"
   ]
  },
  {
   "cell_type": "code",
   "execution_count": 13,
   "metadata": {},
   "outputs": [
    {
     "name": "stdout",
     "output_type": "stream",
     "text": [
      "The average of the three numbers is: 16.00\n"
     ]
    }
   ],
   "source": [
    "num1 = float(input(\"Enter the first no.\\t: \"))\n",
    "num2 = float(input(\"Enter the second no.\\t: \"))\n",
    "num3 = float(input(\"Enter the third no.\\t: \"))\n",
    "\n",
    "avg = (num1 + num2 + num3) / 3\n",
    "\n",
    "print(\"The average of the three numbers is: %.2f\" % avg)"
   ]
  },
  {
   "cell_type": "code",
   "execution_count": 14,
   "metadata": {},
   "outputs": [
    {
     "name": "stdout",
     "output_type": "stream",
     "text": [
      "The Number is Postive\n"
     ]
    }
   ],
   "source": [
    "# taking user input \n",
    "\n",
    "num=int(input(\"Enter the number: \"))\n",
    "\n",
    "# using if else statement to determine number is positive, negative or zero\n",
    "\n",
    "if (num>0):print(\"The Number is Postive\")\n",
    "elif (num==0):print(\"The Number is Zero\")\n",
    "else: print(\"The Number is Negative\")"
   ]
  },
  {
   "cell_type": "code",
   "execution_count": 15,
   "metadata": {},
   "outputs": [],
   "source": [
    "while True:  \n",
    "    \n",
    "    # Creating a while loop with condition True\n",
    "     \n",
    "    # taking user input\n",
    "    \n",
    "    a = input(\"Enter a number or use 'exit' to break the loop: \")\n",
    "    \n",
    "    \n",
    "    # conditional statements to break the loop if \"exit\" is entered else the loop continues\n",
    "    \n",
    "    if a == \"exit\":\n",
    "        break        \n",
    "    else:\n",
    "        continue"
   ]
  },
  {
   "cell_type": "code",
   "execution_count": 16,
   "metadata": {},
   "outputs": [
    {
     "name": "stdout",
     "output_type": "stream",
     "text": [
      "One number is even, and the other is odd.\n"
     ]
    }
   ],
   "source": [
    "# Taking two numbers as input from the user\n",
    "\n",
    "num1 = int(input(\"Enter the first number: \"))\n",
    "num2 = int(input(\"Enter the second number: \"))\n",
    "\n",
    "# Checking if both numbers are even\n",
    "\n",
    "# used modulas and equality to operators to determine numbers as even or odd\n",
    "\n",
    "if num1 % 2 == 0 and num2 % 2 == 0:\n",
    "    \n",
    "    print(\"Both numbers are even.\")\n",
    "    \n",
    "    \n",
    "# Checking if both numbers are odd\n",
    "\n",
    "# used modulas and not equal to operators to determine numbers as even or odd\n",
    "\n",
    "elif num1 % 2 != 0 and num2 % 2 != 0: \n",
    "    \n",
    "    print(\"Both numbers are odd.\")\n",
    "    \n",
    " \n",
    "# If one is even and the other is odd\n",
    "else: print(\"One number is even, and the other is odd.\")"
   ]
  },
  {
   "cell_type": "code",
   "execution_count": 17,
   "metadata": {},
   "outputs": [
    {
     "name": "stdout",
     "output_type": "stream",
     "text": [
      "Binary: 1110\n",
      "Octal: 16\n",
      "Hexadecimal: E\n"
     ]
    }
   ],
   "source": [
    "# Taking an integer input from the user\n",
    "number = int(input(\"Enter an integer: \"))\n",
    "\n",
    "# Convert to binary\n",
    "binary = \"\"\n",
    "n = number\n",
    "while n > 0:\n",
    "    remainder = n % 2\n",
    "    binary = str(remainder) + binary\n",
    "    n = n // 2\n",
    "\n",
    "# Convert to octal\n",
    "octal = \"\"\n",
    "n = number\n",
    "while n > 0:\n",
    "    remainder = n % 8\n",
    "    octal = str(remainder) + octal\n",
    "    n = n // 8\n",
    "\n",
    "# Convert to hexadecimal\n",
    "hexadecimal = \"\"\n",
    "n = number\n",
    "hex_digits = \"0123456789ABCDEF\"\n",
    "while n > 0:\n",
    "    remainder = n % 16\n",
    "    hexadecimal = hex_digits[remainder] + hexadecimal\n",
    "    n = n // 16\n",
    "\n",
    "# Print the results\n",
    "print(f\"Binary: {binary}\")\n",
    "print(f\"Octal: {octal}\")\n",
    "print(f\"Hexadecimal: {hexadecimal}\")"
   ]
  }
 ],
 "metadata": {
  "kernelspec": {
   "display_name": "Python 3",
   "language": "python",
   "name": "python3"
  },
  "language_info": {
   "codemirror_mode": {
    "name": "ipython",
    "version": 3
   },
   "file_extension": ".py",
   "mimetype": "text/x-python",
   "name": "python",
   "nbconvert_exporter": "python",
   "pygments_lexer": "ipython3",
   "version": "3.12.4"
  }
 },
 "nbformat": 4,
 "nbformat_minor": 2
}
